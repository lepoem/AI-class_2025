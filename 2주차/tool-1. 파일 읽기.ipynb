{
 "cells": [
  {
   "cell_type": "code",
   "execution_count": 1,
   "id": "b41ac7c9",
   "metadata": {},
   "outputs": [],
   "source": [
    "#로컬 -> csv, xlsx"
   ]
  },
  {
   "cell_type": "code",
   "execution_count": 1,
   "id": "8cfc984a",
   "metadata": {},
   "outputs": [
    {
     "name": "stdout",
     "output_type": "stream",
     "text": [
      "0\n"
     ]
    }
   ],
   "source": [
    "from sklearn.model_selection import train_test_split\n",
    "from sklearn.preprocessing import LabelEncoder\n",
    "from sklearn.tree import DecisionTreeClassifier\n",
    "from sklearn.ensemble import RandomForestClassifier\n",
    "from sklearn.svm import SVC\n",
    "from sklearn.linear_model import LogisticRegression\n",
    "from sklearn.metrics import accuracy_score\n",
    "from sklearn.preprocessing import StandardScaler\n",
    "import pandas as pd\n",
    "import openpyxl\n",
    "print(0)"
   ]
  },
  {
   "cell_type": "code",
   "execution_count": 2,
   "id": "5ea47d14",
   "metadata": {},
   "outputs": [
    {
     "data": {
      "text/plain": [
       "Index(['SepalLength', 'SepalWidth', 'PetalLength', 'PetalWidth', 'Name'], dtype='object')"
      ]
     },
     "execution_count": 2,
     "metadata": {},
     "output_type": "execute_result"
    }
   ],
   "source": [
    "# 붓꽃 데이터 CSV 파일 읽기\n",
    "file_path = \"C:/Users/82109/Desktop/나/대학/2025-1/인공지능개론/1주차/iris.csv\"  # 본인이 iris.csv를 저장한 경로를 입력합니다.\n",
    "df = pd.read_csv(file_path)\n",
    "\n",
    "# 데이터프레임 확인\n",
    "df.head\n",
    "df.columns"
   ]
  },
  {
   "cell_type": "code",
   "execution_count": 3,
   "id": "fe16d36e",
   "metadata": {},
   "outputs": [
    {
     "data": {
      "text/plain": [
       "Index(['Num.', 'subject_ID', 'Sex(M/F)', 'Age(year)', 'Height(cm)',\n",
       "       'Weight(kg)', 'Systolic Blood Pressure(mmHg)',\n",
       "       'Diastolic Blood Pressure(mmHg)', 'Heart Rate(b/m)', 'BMI(kg/m^2)',\n",
       "       ...\n",
       "       '2091', '2092', '2093', '2094', '2095', '2096', '2097', '2098', '2099',\n",
       "       '2100'],\n",
       "      dtype='object', length=2114)"
      ]
     },
     "execution_count": 3,
     "metadata": {},
     "output_type": "execute_result"
    }
   ],
   "source": [
    "# 붓꽃 데이터 xlsx 파일 읽기\n",
    "file_path = \"C:/Users/82109/Desktop/나/대학/2025-1/인공지능개론/1주차/combined_dataset-1.xlsx\"  # 본인이 iris.xlsx를 저장한 경로를 입력합니다.\n",
    "df = pd.read_excel(file_path)\n",
    "\n",
    "# 데이터프레임 확인\n",
    "df.head\n",
    "df.columns"
   ]
  },
  {
   "cell_type": "code",
   "execution_count": 4,
   "id": "b330ce3d",
   "metadata": {},
   "outputs": [
    {
     "name": "stdout",
     "output_type": "stream",
     "text": [
      "   PassengerId  Survived  Pclass  \\\n",
      "0            1         0       3   \n",
      "1            2         1       1   \n",
      "2            3         1       3   \n",
      "3            4         1       1   \n",
      "4            5         0       3   \n",
      "\n",
      "                                                Name     Sex   Age  SibSp  \\\n",
      "0                            Braund, Mr. Owen Harris    male  22.0      1   \n",
      "1  Cumings, Mrs. John Bradley (Florence Briggs Th...  female  38.0      1   \n",
      "2                             Heikkinen, Miss. Laina  female  26.0      0   \n",
      "3       Futrelle, Mrs. Jacques Heath (Lily May Peel)  female  35.0      1   \n",
      "4                           Allen, Mr. William Henry    male  35.0      0   \n",
      "\n",
      "   Parch            Ticket     Fare Cabin Embarked  \n",
      "0      0         A/5 21171   7.2500   NaN        S  \n",
      "1      0          PC 17599  71.2833   C85        C  \n",
      "2      0  STON/O2. 3101282   7.9250   NaN        S  \n",
      "3      0            113803  53.1000  C123        S  \n",
      "4      0            373450   8.0500   NaN        S  \n"
     ]
    }
   ],
   "source": [
    "#웹에서 csv파일 읽어오기\n",
    "\n",
    "# CSV 파일의 웹 URL\n",
    "url = 'https://raw.githubusercontent.com/MyungKyuYi/AI-class/main/titanic.csv'\n",
    "\n",
    "# 웹 주소의 CSV 파일을 데이터프레임으로 읽어오기\n",
    "df = pd.read_csv(url)\n",
    "\n",
    "# 데이터프레임의 앞부분을 출력해서 확인하기\n",
    "print(df.head())"
   ]
  },
  {
   "cell_type": "code",
   "execution_count": 5,
   "id": "1ea403ea",
   "metadata": {},
   "outputs": [
    {
     "name": "stdout",
     "output_type": "stream",
     "text": [
      "   Num.  subject_ID Sex(M/F)  Age(year)  Height(cm)  Weight(kg)  \\\n",
      "0     1           2   Female         45         152          63   \n",
      "1     1           2   Female         45         152          63   \n",
      "2     1           2   Female         45         152          63   \n",
      "3     2           3   Female         50         157          50   \n",
      "4     2           3   Female         50         157          50   \n",
      "\n",
      "   Systolic Blood Pressure(mmHg)  Diastolic Blood Pressure(mmHg)  \\\n",
      "0                            161                              89   \n",
      "1                            161                              89   \n",
      "2                            161                              89   \n",
      "3                            160                              93   \n",
      "4                            160                              93   \n",
      "\n",
      "   Heart Rate(b/m)  BMI(kg/m^2)  ...  2091  2092  2093  2094  2095  2096  \\\n",
      "0               97    27.268006  ...  1766  1766  1766  1833  1833  1827   \n",
      "1               97    27.268006  ...  1985  1985  2026  2026  2026  1977   \n",
      "2               97    27.268006  ...  1942  1900  1900  1938  1938  1938   \n",
      "3               76    20.284799  ...  2073  2072  2072  2072  2051  2051   \n",
      "4               76    20.284799  ...  2021  2010  2010  2010  2001  2001   \n",
      "\n",
      "   2097  2098  2099  2100  \n",
      "0  1827  1827  1754  1754  \n",
      "1  1977  1997  1997  1997  \n",
      "2  1924  1924  1929  1929  \n",
      "3  2036  2036  2036  2045  \n",
      "4  2003  2003  2003  1989  \n",
      "\n",
      "[5 rows x 2114 columns]\n"
     ]
    }
   ],
   "source": [
    "#웹에서 xlsx파일 읽어오기\n",
    "\n",
    "# CSV 파일의 웹 URL\n",
    "url = 'https://raw.githubusercontent.com/MyungKyuYi/AI-class/main/combined_dataset-1.xlsx'\n",
    "\n",
    "# 웹 주소의 CSV 파일을 데이터프레임으로 읽어오기\n",
    "df = pd.read_excel(url)\n",
    "\n",
    "# 데이터프레임의 앞부분을 출력해서 확인하기\n",
    "print(df.head())\n",
    "\n",
    "#이게 gpt말로는 원래 깃헙에서 xlsx파일을 다운로드 없이는 읽지 못하는데 환경이나 pandas버전에 따라 그럴 수도 있다고함.\n",
    "#안정적으로 파일을 읽으려면 파일을 다운로드해서 읽어야한다고 request명령어등을 소개함."
   ]
  },
  {
   "cell_type": "code",
   "execution_count": null,
   "id": "73254a7c",
   "metadata": {},
   "outputs": [],
   "source": []
  }
 ],
 "metadata": {
  "kernelspec": {
   "display_name": "Python 3 (ipykernel)",
   "language": "python",
   "name": "python3"
  },
  "language_info": {
   "codemirror_mode": {
    "name": "ipython",
    "version": 3
   },
   "file_extension": ".py",
   "mimetype": "text/x-python",
   "name": "python",
   "nbconvert_exporter": "python",
   "pygments_lexer": "ipython3",
   "version": "3.11.2"
  }
 },
 "nbformat": 4,
 "nbformat_minor": 5
}
