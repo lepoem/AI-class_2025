{
 "cells": [
  {
   "cell_type": "code",
   "execution_count": 2,
   "id": "75c51c30",
   "metadata": {},
   "outputs": [
    {
     "data": {
      "text/plain": [
       "Index(['PassengerId', 'Survived', 'Pclass', 'Name', 'Sex', 'Age', 'SibSp',\n",
       "       'Parch', 'Ticket', 'Fare', 'Cabin', 'Embarked'],\n",
       "      dtype='object')"
      ]
     },
     "execution_count": 2,
     "metadata": {},
     "output_type": "execute_result"
    }
   ],
   "source": [
    "from sklearn.model_selection import train_test_split\n",
    "from sklearn.preprocessing import LabelEncoder\n",
    "from sklearn.tree import DecisionTreeClassifier\n",
    "from sklearn.ensemble import RandomForestClassifier\n",
    "from sklearn.svm import SVC\n",
    "from sklearn.linear_model import LogisticRegression\n",
    "from sklearn.metrics import accuracy_score\n",
    "from sklearn.preprocessing import StandardScaler\n",
    "import pandas as pd\n",
    "import openpyxl\n",
    "\n",
    "\n",
    "# 붓꽃 데이터 CSV 파일 읽기\n",
    "file_path = \"C:/Users/82109/Desktop/나/대학/2025-1/인공지능개론/1주차/titanic.csv\"  # 본인이 titanic.csv를 저장한 경로를 입력합니다.\n",
    "df = pd.read_csv(file_path)\n",
    "\n",
    "# 데이터프레임 확인\n",
    "df.head\n",
    "df.columns"
   ]
  },
  {
   "cell_type": "code",
   "execution_count": 3,
   "id": "0702e0c8",
   "metadata": {},
   "outputs": [
    {
     "name": "stdout",
     "output_type": "stream",
     "text": [
      "   Survived  Pclass     Sex   Age  SibSp  Parch     Fare Embarked\n",
      "0         0       3    male  22.0      1      0   7.2500        S\n",
      "1         1       1  female  38.0      1      0  71.2833        C\n",
      "2         1       3  female  26.0      0      0   7.9250        S\n",
      "3         1       1  female  35.0      1      0  53.1000        S\n",
      "4         0       3    male  35.0      0      0   8.0500        S\n",
      "Index(['Survived', 'Pclass', 'Sex', 'Age', 'SibSp', 'Parch', 'Fare',\n",
      "       'Embarked'],\n",
      "      dtype='object')\n"
     ]
    }
   ],
   "source": [
    "# 필요 없는 컬럼 제거\n",
    "df = df.drop(columns=['PassengerId', 'Name', 'Ticket', 'Cabin'], errors='ignore')\n",
    "\n",
    "# 변경된 데이터프레임 확인\n",
    "print(df.head())\n",
    "print(df.columns)\n"
   ]
  },
  {
   "cell_type": "code",
   "execution_count": 4,
   "id": "b56ab11f",
   "metadata": {},
   "outputs": [
    {
     "name": "stdout",
     "output_type": "stream",
     "text": [
      "   Survived  Pclass  Sex   Age  SibSp  Parch     Fare  Embarked\n",
      "0         0       3    1  22.0      1      0   7.2500         2\n",
      "1         1       1    0  38.0      1      0  71.2833         0\n",
      "2         1       3    0  26.0      0      0   7.9250         2\n",
      "3         1       1    0  35.0      1      0  53.1000         2\n",
      "4         0       3    1  35.0      0      0   8.0500         2\n",
      "<class 'pandas.core.frame.DataFrame'>\n",
      "RangeIndex: 891 entries, 0 to 890\n",
      "Data columns (total 8 columns):\n",
      " #   Column    Non-Null Count  Dtype  \n",
      "---  ------    --------------  -----  \n",
      " 0   Survived  891 non-null    int64  \n",
      " 1   Pclass    891 non-null    int64  \n",
      " 2   Sex       891 non-null    int64  \n",
      " 3   Age       714 non-null    float64\n",
      " 4   SibSp     891 non-null    int64  \n",
      " 5   Parch     891 non-null    int64  \n",
      " 6   Fare      891 non-null    float64\n",
      " 7   Embarked  891 non-null    int64  \n",
      "dtypes: float64(2), int64(6)\n",
      "memory usage: 55.8 KB\n",
      "None\n"
     ]
    }
   ],
   "source": [
    "#인코딩하는 과정\n",
    "\n",
    "from sklearn.preprocessing import LabelEncoder\n",
    "\n",
    "# LabelEncoder 객체 생성\n",
    "label_encoder = LabelEncoder()\n",
    "\n",
    "# 범주형 변수 리스트 (문자로 된 데이터를 숫자로 변환)\n",
    "categorical_columns = ['Sex', 'Embarked']  # 'Embarked'는 승선 항구 정보 (C, Q, S)\n",
    "\n",
    "# 각 범주형 변수에 대해 Label Encoding 적용\n",
    "for col in categorical_columns:\n",
    "    df[col] = label_encoder.fit_transform(df[col].astype(str))  # 문자열 변환 후 인코딩\n",
    "\n",
    "# 변경된 데이터프레임 확인\n",
    "print(df.head())\n",
    "print(df.info())  # 데이터 타입 확인 (전부 숫자인지 체크)\n"
   ]
  },
  {
   "cell_type": "code",
   "execution_count": 5,
   "id": "130139da",
   "metadata": {},
   "outputs": [
    {
     "name": "stdout",
     "output_type": "stream",
     "text": [
      "변환 전 데이터 분포\n",
      "\n",
      "[Sex]\n",
      "Sex\n",
      "1    577\n",
      "0    314\n",
      "Name: count, dtype: int64\n",
      "\n",
      "[Embarked]\n",
      "Embarked\n",
      "2    644\n",
      "0    168\n",
      "1     77\n",
      "3      2\n",
      "Name: count, dtype: int64\n",
      "\n",
      "변환 후 데이터 분포\n",
      "\n",
      "[Sex]\n",
      "Sex\n",
      "1    577\n",
      "0    314\n",
      "Name: count, dtype: int64\n",
      "\n",
      "[Embarked]\n",
      "Embarked\n",
      "2    644\n",
      "0    168\n",
      "1     77\n",
      "3      2\n",
      "Name: count, dtype: int64\n",
      "\n",
      "인코딩 완료! 변경된 데이터프레임 미리보기:\n",
      "   Survived  Pclass  Sex   Age  SibSp  Parch     Fare  Embarked\n",
      "0         0       3    1  22.0      1      0   7.2500         2\n",
      "1         1       1    0  38.0      1      0  71.2833         0\n",
      "2         1       3    0  26.0      0      0   7.9250         2\n",
      "3         1       1    0  35.0      1      0  53.1000         2\n",
      "4         0       3    1  35.0      0      0   8.0500         2\n",
      "<class 'pandas.core.frame.DataFrame'>\n",
      "RangeIndex: 891 entries, 0 to 890\n",
      "Data columns (total 8 columns):\n",
      " #   Column    Non-Null Count  Dtype  \n",
      "---  ------    --------------  -----  \n",
      " 0   Survived  891 non-null    int64  \n",
      " 1   Pclass    891 non-null    int64  \n",
      " 2   Sex       891 non-null    int64  \n",
      " 3   Age       714 non-null    float64\n",
      " 4   SibSp     891 non-null    int64  \n",
      " 5   Parch     891 non-null    int64  \n",
      " 6   Fare      891 non-null    float64\n",
      " 7   Embarked  891 non-null    int64  \n",
      "dtypes: float64(2), int64(6)\n",
      "memory usage: 55.8 KB\n",
      "None\n"
     ]
    }
   ],
   "source": [
    "#인코딩과 인코딩 전후의 인코딩 대상 컬럼의 분포 변화가 없는지, 편향성이 없는지 확인\n",
    "\n",
    "from sklearn.preprocessing import LabelEncoder\n",
    "import pandas as pd\n",
    "\n",
    "# 인코딩할 범주형 컬럼 리스트\n",
    "categorical_columns = ['Sex', 'Embarked']\n",
    "\n",
    "# LabelEncoder 객체 생성\n",
    "label_encoder = LabelEncoder()\n",
    "\n",
    "# 변환 전 데이터 분포 확인\n",
    "print(\"변환 전 데이터 분포\")\n",
    "for col in categorical_columns:\n",
    "    print(f\"\\n[{col}]\\n{df[col].value_counts()}\")\n",
    "\n",
    "# 각 범주형 변수에 대해 Label Encoding 적용\n",
    "for col in categorical_columns:\n",
    "    df[col] = label_encoder.fit_transform(df[col].astype(str))  # 문자열 변환 후 인코딩\n",
    "\n",
    "# 변환 후 데이터 분포 확인\n",
    "print(\"\\n변환 후 데이터 분포\")\n",
    "for col in categorical_columns:\n",
    "    print(f\"\\n[{col}]\\n{df[col].value_counts()}\")\n",
    "\n",
    "# 변경된 데이터프레임 확인\n",
    "print(\"\\n인코딩 완료! 변경된 데이터프레임 미리보기:\")\n",
    "print(df.head())\n",
    "print(df.info())  # 모든 컬럼이 숫자로 변환됐는지 확인\n"
   ]
  },
  {
   "cell_type": "code",
   "execution_count": null,
   "id": "d7874fb0",
   "metadata": {},
   "outputs": [],
   "source": []
  }
 ],
 "metadata": {
  "kernelspec": {
   "display_name": "Python 3 (ipykernel)",
   "language": "python",
   "name": "python3"
  },
  "language_info": {
   "codemirror_mode": {
    "name": "ipython",
    "version": 3
   },
   "file_extension": ".py",
   "mimetype": "text/x-python",
   "name": "python",
   "nbconvert_exporter": "python",
   "pygments_lexer": "ipython3",
   "version": "3.11.2"
  }
 },
 "nbformat": 4,
 "nbformat_minor": 5
}
