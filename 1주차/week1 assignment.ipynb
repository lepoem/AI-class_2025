{
 "cells": [
  {
   "cell_type": "code",
   "execution_count": 2,
   "id": "d286fe5b",
   "metadata": {},
   "outputs": [],
   "source": [
    "# week 1 assignment"
   ]
  },
  {
   "cell_type": "code",
   "execution_count": 11,
   "id": "7d45a6b4",
   "metadata": {},
   "outputs": [],
   "source": [
    "from sklearn.model_selection import train_test_split\n",
    "from sklearn.preprocessing import LabelEncoder\n",
    "from sklearn.tree import DecisionTreeClassifier\n",
    "from sklearn.ensemble import RandomForestClassifier\n",
    "from sklearn.svm import SVC\n",
    "from sklearn.linear_model import LogisticRegression\n",
    "from sklearn.metrics import accuracy_score\n",
    "from sklearn.preprocessing import StandardScaler"
   ]
  },
  {
   "cell_type": "code",
   "execution_count": 4,
   "id": "c4844526",
   "metadata": {
    "scrolled": true
   },
   "outputs": [
    {
     "data": {
      "text/plain": [
       "Index(['SepalLength', 'SepalWidth', 'PetalLength', 'PetalWidth', 'Name'], dtype='object')"
      ]
     },
     "execution_count": 4,
     "metadata": {},
     "output_type": "execute_result"
    }
   ],
   "source": [
    "import pandas as pd\n",
    "\n",
    "# 붓꽃 데이터 CSV 파일 읽기\n",
    "file_path = \"C:/Users/82109/Desktop/나/대학/2025-1/인공지능개론/1주차/iris.csv\"  # 본인이 iris.csv를 저장한 경로를 입력합니다.\n",
    "df = pd.read_csv(file_path)\n",
    "\n",
    "# 데이터프레임 확인\n",
    "df.head\n",
    "df.columns"
   ]
  },
  {
   "cell_type": "code",
   "execution_count": 6,
   "id": "db2ff68c",
   "metadata": {},
   "outputs": [
    {
     "name": "stdout",
     "output_type": "stream",
     "text": [
      "DT Accuracy: 1.0\n",
      "RF Accuracy: 1.0\n",
      "SVM Accuracy: 1.0\n",
      "LR Accuracy: 1.0\n"
     ]
    }
   ],
   "source": [
    "# 데이터 준비\n",
    "X = df.iloc[:, :-1]  # 마지막 열(Name) 제외한 특성 데이터\n",
    "y = LabelEncoder().fit_transform(df.iloc[:, -1])  # 문자열 라벨을 숫자로 변환\n",
    "X_train, X_test, y_train, y_test = train_test_split(X, y, test_size=0.2, random_state=42)\n",
    "\n",
    "# 결정 트리 (DT)\n",
    "dt = DecisionTreeClassifier().fit(X_train, y_train)\n",
    "print(\"DT Accuracy:\", dt.score(X_test, y_test))\n",
    "\n",
    "# 랜덤 포레스트 (RF)\n",
    "rf = RandomForestClassifier().fit(X_train, y_train)\n",
    "print(\"RF Accuracy:\", rf.score(X_test, y_test))\n",
    "\n",
    "# 서포트 벡터 머신 (SVM)\n",
    "svm = SVC().fit(X_train, y_train)\n",
    "print(\"SVM Accuracy:\", svm.score(X_test, y_test))\n",
    "\n",
    "# 로지스틱 회귀 (LR)\n",
    "lr = LogisticRegression(max_iter=200).fit(X_train, y_train)\n",
    "print(\"LR Accuracy:\", lr.score(X_test, y_test))"
   ]
  },
  {
   "cell_type": "code",
   "execution_count": 12,
   "id": "a9399749",
   "metadata": {},
   "outputs": [
    {
     "name": "stdout",
     "output_type": "stream",
     "text": [
      "Random Forest Accuracy: 1.0000\n",
      "Decision Tree Accuracy: 1.0000\n",
      "SVM Accuracy: 1.0000\n",
      "Logistic Regression Accuracy: 1.0000\n",
      "모든 모델 학습 및 예측 완료\n"
     ]
    }
   ],
   "source": [
    "# 데이터 분할\n",
    "X_train, X_test, y_train, y_test = train_test_split(X, y, test_size=0.2, random_state=42)\n",
    "\n",
    "# SVM과 Logistic Regression을 위한 데이터 스케일링\n",
    "scaler = StandardScaler()\n",
    "X_train_scaled = scaler.fit_transform(X_train)\n",
    "X_test_scaled = scaler.transform(X_test)\n",
    "\n",
    "# 랜덤 포레스트 분류\n",
    "rf = RandomForestClassifier(n_estimators=100, random_state=42)\n",
    "rf.fit(X_train, y_train)\n",
    "y_pred_rf = rf.predict(X_test)\n",
    "print(f\"Random Forest Accuracy: {accuracy_score(y_test, y_pred_rf):.4f}\")\n",
    "\n",
    "# 의사결정나무 분류\n",
    "dt = DecisionTreeClassifier(random_state=42)\n",
    "dt.fit(X_train, y_train)\n",
    "y_pred_dt = dt.predict(X_test)\n",
    "print(f\"Decision Tree Accuracy: {accuracy_score(y_test, y_pred_dt):.4f}\")\n",
    "\n",
    "# SVM 분류\n",
    "svm = SVC()\n",
    "svm.fit(X_train_scaled, y_train)\n",
    "y_pred_svm = svm.predict(X_test_scaled)\n",
    "print(f\"SVM Accuracy: {accuracy_score(y_test, y_pred_svm):.4f}\")\n",
    "\n",
    "# 로지스틱 회귀 분류\n",
    "lr = LogisticRegression()\n",
    "lr.fit(X_train_scaled, y_train)\n",
    "y_pred_lr = lr.predict(X_test_scaled)\n",
    "print(f\"Logistic Regression Accuracy: {accuracy_score(y_test, y_pred_lr):.4f}\")\n",
    "\n",
    "print(\"모든 모델 학습 및 예측 완료\")"
   ]
  },
  {
   "cell_type": "code",
   "execution_count": null,
   "id": "db956a4d",
   "metadata": {},
   "outputs": [],
   "source": []
  }
 ],
 "metadata": {
  "kernelspec": {
   "display_name": "Python 3 (ipykernel)",
   "language": "python",
   "name": "python3"
  },
  "language_info": {
   "codemirror_mode": {
    "name": "ipython",
    "version": 3
   },
   "file_extension": ".py",
   "mimetype": "text/x-python",
   "name": "python",
   "nbconvert_exporter": "python",
   "pygments_lexer": "ipython3",
   "version": "3.11.2"
  }
 },
 "nbformat": 4,
 "nbformat_minor": 5
}
